{
 "cells": [
  {
   "cell_type": "markdown",
   "id": "d6117da2-98ac-448d-ae1e-c22b067c2719",
   "metadata": {},
   "source": [
    "Simple CNN for Binary Classification "
   ]
  },
  {
   "cell_type": "code",
   "execution_count": 19,
   "id": "09bb818b-9cb1-4df9-b412-505b52061347",
   "metadata": {},
   "outputs": [
    {
     "name": "stdout",
     "output_type": "stream",
     "text": [
      "Corrupted images have been removed.\n"
     ]
    }
   ],
   "source": [
    "import os\n",
    "from PIL import Image\n",
    "\n",
    "def remove_corrupted_images(directory):\n",
    "    for subdir, dirs, files in os.walk(directory):\n",
    "        for file in files:\n",
    "            file_path = os.path.join(subdir, file)\n",
    "            try:\n",
    "                img = Image.open(file_path)\n",
    "                img.verify()  # Verify that the image can be opened\n",
    "            except (IOError, SyntaxError) as e:\n",
    "                print(f'Removing corrupted file: {file_path}')\n",
    "                os.remove(file_path)\n",
    "\n",
    "# Specify the directories where your images are stored\n",
    "dog_directory = 'C:/Users/Lenovo/Downloads/archive/PetImages/Dog'\n",
    "cat_directory = 'C:/Users/Lenovo/Downloads/archive/PetImages/Cat'\n",
    "\n",
    "# Remove corrupted images\n",
    "remove_corrupted_images(dog_directory)\n",
    "remove_corrupted_images(cat_directory)\n",
    "\n",
    "print(\"Corrupted images have been removed.\")\n"
   ]
  },
  {
   "cell_type": "code",
   "execution_count": 20,
   "id": "1ff2d1ce-93f8-4f57-9176-7c59b6cfbb36",
   "metadata": {},
   "outputs": [
    {
     "name": "stdout",
     "output_type": "stream",
     "text": [
      "Found 20000 images belonging to 2 classes.\n",
      "Found 4998 images belonging to 2 classes.\n"
     ]
    }
   ],
   "source": [
    "#Step 1: Load and Preprocess the Data\n",
    "from tensorflow.keras.preprocessing.image import ImageDataGenerator\n",
    "\n",
    "# Set up data generators\n",
    "train_datagen = ImageDataGenerator(rescale=1./255, validation_split=0.2)\n",
    "\n",
    "# Path to the dataset\n",
    "dataset_path = 'C:/Users/Lenovo/Downloads/archive/PetImages'\n",
    "\n",
    "# Training data generator\n",
    "train_generator = train_datagen.flow_from_directory(\n",
    "    dataset_path,  # Use the parent directory of 'Cat' and 'Dog'\n",
    "    target_size=(150, 150),\n",
    "    batch_size=32,\n",
    "    class_mode='binary',\n",
    "    subset='training'\n",
    ")\n",
    "\n",
    "# Validation data generator\n",
    "validation_generator = train_datagen.flow_from_directory(\n",
    "    dataset_path,  # Use the parent directory of 'Cat' and 'Dog'\n",
    "    target_size=(150, 150),\n",
    "    batch_size=32,\n",
    "    class_mode='binary',\n",
    "    subset='validation'\n",
    ")\n",
    "\n"
   ]
  },
  {
   "cell_type": "markdown",
   "id": "22f5d58e-f858-45ae-8343-1aed863e9885",
   "metadata": {},
   "source": [
    "Step 2: Build the CNN Architecture"
   ]
  },
  {
   "cell_type": "code",
   "execution_count": 21,
   "id": "e8b2b297-9dd0-4362-8721-20568cd910b6",
   "metadata": {},
   "outputs": [
    {
     "name": "stdout",
     "output_type": "stream",
     "text": [
      "Model: \"sequential_2\"\n",
      "_________________________________________________________________\n",
      " Layer (type)                Output Shape              Param #   \n",
      "=================================================================\n",
      " conv2d_6 (Conv2D)           (None, 148, 148, 32)      896       \n",
      "                                                                 \n",
      " max_pooling2d_6 (MaxPooling  (None, 74, 74, 32)       0         \n",
      " 2D)                                                             \n",
      "                                                                 \n",
      " conv2d_7 (Conv2D)           (None, 72, 72, 64)        18496     \n",
      "                                                                 \n",
      " max_pooling2d_7 (MaxPooling  (None, 36, 36, 64)       0         \n",
      " 2D)                                                             \n",
      "                                                                 \n",
      " conv2d_8 (Conv2D)           (None, 34, 34, 128)       73856     \n",
      "                                                                 \n",
      " max_pooling2d_8 (MaxPooling  (None, 17, 17, 128)      0         \n",
      " 2D)                                                             \n",
      "                                                                 \n",
      " flatten_2 (Flatten)         (None, 36992)             0         \n",
      "                                                                 \n",
      " dense_4 (Dense)             (None, 512)               18940416  \n",
      "                                                                 \n",
      " dropout_2 (Dropout)         (None, 512)               0         \n",
      "                                                                 \n",
      " dense_5 (Dense)             (None, 1)                 513       \n",
      "                                                                 \n",
      "=================================================================\n",
      "Total params: 19,034,177\n",
      "Trainable params: 19,034,177\n",
      "Non-trainable params: 0\n",
      "_________________________________________________________________\n"
     ]
    }
   ],
   "source": [
    "from tensorflow.keras.models import Sequential\n",
    "from tensorflow.keras.layers import Conv2D, MaxPooling2D, Flatten, Dense, Dropout\n",
    "\n",
    "# Define the CNN model\n",
    "model = Sequential([\n",
    "    Conv2D(32, (3, 3), activation='relu', input_shape=(150, 150, 3)),\n",
    "    MaxPooling2D(pool_size=(2, 2)),\n",
    "    \n",
    "    Conv2D(64, (3, 3), activation='relu'),\n",
    "    MaxPooling2D(pool_size=(2, 2)),\n",
    "    \n",
    "    Conv2D(128, (3, 3), activation='relu'),\n",
    "    MaxPooling2D(pool_size=(2, 2)),\n",
    "    \n",
    "    Flatten(),\n",
    "    Dense(512, activation='relu'),\n",
    "    Dropout(0.5),\n",
    "    Dense(1, activation='sigmoid')\n",
    "])\n",
    "\n",
    "# Compile the model\n",
    "model.compile(optimizer='adam', loss='binary_crossentropy', metrics=['accuracy'])\n",
    "\n",
    "# Print the model summary\n",
    "model.summary()\n"
   ]
  },
  {
   "cell_type": "markdown",
   "id": "1253629f-08ae-44fc-a63a-922fd14a5121",
   "metadata": {},
   "source": [
    "Step 3: Train the CNN"
   ]
  },
  {
   "cell_type": "code",
   "execution_count": 22,
   "id": "338b8366-2b61-4e4e-8cfb-fc18de518f8c",
   "metadata": {},
   "outputs": [
    {
     "name": "stdout",
     "output_type": "stream",
     "text": [
      "Epoch 1/20\n",
      "625/625 [==============================] - ETA: 0s - loss: 0.6345 - accuracy: 0.6428"
     ]
    },
    {
     "name": "stderr",
     "output_type": "stream",
     "text": [
      "WARNING:absl:Found untraced functions such as _jit_compiled_convolution_op, _jit_compiled_convolution_op, _jit_compiled_convolution_op while saving (showing 3 of 3). These functions will not be directly callable after loading.\n"
     ]
    },
    {
     "name": "stdout",
     "output_type": "stream",
     "text": [
      "INFO:tensorflow:Assets written to: cat_vs_dog_cnn.tf\\assets\n"
     ]
    },
    {
     "name": "stderr",
     "output_type": "stream",
     "text": [
      "INFO:tensorflow:Assets written to: cat_vs_dog_cnn.tf\\assets\n"
     ]
    },
    {
     "name": "stdout",
     "output_type": "stream",
     "text": [
      "625/625 [==============================] - 318s 508ms/step - loss: 0.6345 - accuracy: 0.6428 - val_loss: 0.5454 - val_accuracy: 0.7155\n",
      "Epoch 2/20\n",
      "461/625 [=====================>........] - ETA: 1:16 - loss: 0.4914 - accuracy: 0.7638"
     ]
    },
    {
     "name": "stderr",
     "output_type": "stream",
     "text": [
      "C:\\Users\\Lenovo\\Desktop\\ml_project\\env\\lib\\site-packages\\PIL\\TiffImagePlugin.py:900: UserWarning: Truncated File Read\n",
      "  warnings.warn(str(msg))\n"
     ]
    },
    {
     "name": "stdout",
     "output_type": "stream",
     "text": [
      "625/625 [==============================] - ETA: 0s - loss: 0.4838 - accuracy: 0.7693"
     ]
    },
    {
     "name": "stderr",
     "output_type": "stream",
     "text": [
      "WARNING:absl:Found untraced functions such as _jit_compiled_convolution_op, _jit_compiled_convolution_op, _jit_compiled_convolution_op while saving (showing 3 of 3). These functions will not be directly callable after loading.\n"
     ]
    },
    {
     "name": "stdout",
     "output_type": "stream",
     "text": [
      "INFO:tensorflow:Assets written to: cat_vs_dog_cnn.tf\\assets\n"
     ]
    },
    {
     "name": "stderr",
     "output_type": "stream",
     "text": [
      "INFO:tensorflow:Assets written to: cat_vs_dog_cnn.tf\\assets\n"
     ]
    },
    {
     "name": "stdout",
     "output_type": "stream",
     "text": [
      "625/625 [==============================] - 331s 528ms/step - loss: 0.4838 - accuracy: 0.7693 - val_loss: 0.4332 - val_accuracy: 0.8041\n",
      "Epoch 3/20\n",
      "242/625 [==========>...................] - ETA: 2:51 - loss: 0.3934 - accuracy: 0.8179"
     ]
    },
    {
     "name": "stderr",
     "output_type": "stream",
     "text": [
      "C:\\Users\\Lenovo\\Desktop\\ml_project\\env\\lib\\site-packages\\PIL\\TiffImagePlugin.py:900: UserWarning: Truncated File Read\n",
      "  warnings.warn(str(msg))\n"
     ]
    },
    {
     "name": "stdout",
     "output_type": "stream",
     "text": [
      "625/625 [==============================] - ETA: 0s - loss: 0.3930 - accuracy: 0.8209"
     ]
    },
    {
     "name": "stderr",
     "output_type": "stream",
     "text": [
      "WARNING:absl:Found untraced functions such as _jit_compiled_convolution_op, _jit_compiled_convolution_op, _jit_compiled_convolution_op while saving (showing 3 of 3). These functions will not be directly callable after loading.\n"
     ]
    },
    {
     "name": "stdout",
     "output_type": "stream",
     "text": [
      "INFO:tensorflow:Assets written to: cat_vs_dog_cnn.tf\\assets\n"
     ]
    },
    {
     "name": "stderr",
     "output_type": "stream",
     "text": [
      "INFO:tensorflow:Assets written to: cat_vs_dog_cnn.tf\\assets\n"
     ]
    },
    {
     "name": "stdout",
     "output_type": "stream",
     "text": [
      "625/625 [==============================] - 583s 933ms/step - loss: 0.3930 - accuracy: 0.8209 - val_loss: 0.4155 - val_accuracy: 0.8103\n",
      "Epoch 4/20\n",
      "579/625 [==========================>...] - ETA: 26s - loss: 0.3138 - accuracy: 0.8663"
     ]
    },
    {
     "name": "stderr",
     "output_type": "stream",
     "text": [
      "C:\\Users\\Lenovo\\Desktop\\ml_project\\env\\lib\\site-packages\\PIL\\TiffImagePlugin.py:900: UserWarning: Truncated File Read\n",
      "  warnings.warn(str(msg))\n"
     ]
    },
    {
     "name": "stdout",
     "output_type": "stream",
     "text": [
      "625/625 [==============================] - ETA: 0s - loss: 0.3147 - accuracy: 0.8659"
     ]
    },
    {
     "name": "stderr",
     "output_type": "stream",
     "text": [
      "WARNING:absl:Found untraced functions such as _jit_compiled_convolution_op, _jit_compiled_convolution_op, _jit_compiled_convolution_op while saving (showing 3 of 3). These functions will not be directly callable after loading.\n"
     ]
    },
    {
     "name": "stdout",
     "output_type": "stream",
     "text": [
      "INFO:tensorflow:Assets written to: cat_vs_dog_cnn.tf\\assets\n"
     ]
    },
    {
     "name": "stderr",
     "output_type": "stream",
     "text": [
      "INFO:tensorflow:Assets written to: cat_vs_dog_cnn.tf\\assets\n"
     ]
    },
    {
     "name": "stdout",
     "output_type": "stream",
     "text": [
      "625/625 [==============================] - 431s 690ms/step - loss: 0.3147 - accuracy: 0.8659 - val_loss: 0.3716 - val_accuracy: 0.8385\n",
      "Epoch 5/20\n",
      "323/625 [==============>...............] - ETA: 4:06 - loss: 0.2238 - accuracy: 0.9052"
     ]
    },
    {
     "name": "stderr",
     "output_type": "stream",
     "text": [
      "C:\\Users\\Lenovo\\Desktop\\ml_project\\env\\lib\\site-packages\\PIL\\TiffImagePlugin.py:900: UserWarning: Truncated File Read\n",
      "  warnings.warn(str(msg))\n"
     ]
    },
    {
     "name": "stdout",
     "output_type": "stream",
     "text": [
      "625/625 [==============================] - 611s 978ms/step - loss: 0.2298 - accuracy: 0.9032 - val_loss: 0.4634 - val_accuracy: 0.8175\n",
      "Epoch 6/20\n",
      "625/625 [==============================] - 540s 864ms/step - loss: 0.1509 - accuracy: 0.9419 - val_loss: 0.4374 - val_accuracy: 0.8463\n",
      "Epoch 7/20\n",
      "625/625 [==============================] - 1267s 2s/step - loss: 0.0965 - accuracy: 0.9646 - val_loss: 0.4819 - val_accuracy: 0.8477\n",
      "Epoch 8/20\n",
      "625/625 [==============================] - 325s 520ms/step - loss: 0.0652 - accuracy: 0.9783 - val_loss: 0.6208 - val_accuracy: 0.8385\n",
      "Epoch 9/20\n",
      "625/625 [==============================] - 323s 517ms/step - loss: 0.0549 - accuracy: 0.9812 - val_loss: 0.6875 - val_accuracy: 0.8267\n"
     ]
    }
   ],
   "source": [
    "from tensorflow.keras.callbacks import EarlyStopping, ModelCheckpoint\n",
    "\n",
    "callbacks = [\n",
    "    EarlyStopping(monitor='val_loss', patience=5),\n",
    "    ModelCheckpoint('cat_vs_dog_cnn.tf', save_best_only=True, save_format='tf')\n",
    "]\n",
    "\n",
    "history = model.fit(train_generator, validation_data=validation_generator, epochs=20, callbacks=callbacks)\n"
   ]
  },
  {
   "cell_type": "markdown",
   "id": "50c214eb-3697-4e09-be6b-1afd171cf2db",
   "metadata": {},
   "source": [
    "Step 4: Evaluate the CNN"
   ]
  },
  {
   "cell_type": "code",
   "execution_count": 23,
   "id": "f471ee95-8d09-4ac0-91fa-38cd4fad8715",
   "metadata": {},
   "outputs": [
    {
     "name": "stdout",
     "output_type": "stream",
     "text": [
      "157/157 [==============================] - 30s 191ms/step - loss: 0.6875 - accuracy: 0.8267\n",
      "Validation accuracy: 0.8267\n"
     ]
    }
   ],
   "source": [
    "validation_loss, validation_acc = model.evaluate(validation_generator)\n",
    "print(f\"Validation accuracy: {validation_acc:.4f}\")\n"
   ]
  },
  {
   "cell_type": "code",
   "execution_count": null,
   "id": "a97e9d88-f91e-49aa-8598-9608f81b972e",
   "metadata": {},
   "outputs": [],
   "source": []
  }
 ],
 "metadata": {
  "kernelspec": {
   "display_name": "Python 3 (ipykernel)",
   "language": "python",
   "name": "python3"
  },
  "language_info": {
   "codemirror_mode": {
    "name": "ipython",
    "version": 3
   },
   "file_extension": ".py",
   "mimetype": "text/x-python",
   "name": "python",
   "nbconvert_exporter": "python",
   "pygments_lexer": "ipython3",
   "version": "3.9.18"
  }
 },
 "nbformat": 4,
 "nbformat_minor": 5
}
