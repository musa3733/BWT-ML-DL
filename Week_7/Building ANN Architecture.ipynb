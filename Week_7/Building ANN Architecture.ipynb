{
 "cells": [
  {
   "cell_type": "markdown",
   "id": "9a49a28b-cd2b-44fc-9510-934d1633086e",
   "metadata": {},
   "source": [
    "Step 1: Import Required Libraries"
   ]
  },
  {
   "cell_type": "code",
   "execution_count": 13,
   "id": "381c1576-f2e3-4e67-9ac8-173bf10ae5cd",
   "metadata": {},
   "outputs": [],
   "source": [
    "import numpy as np\n",
    "import tensorflow as tf\n",
    "from tensorflow.keras.datasets import mnist\n",
    "import matplotlib.pyplot as plt"
   ]
  },
  {
   "cell_type": "markdown",
   "id": "404e04e8-0276-41d2-8849-8dd414212da9",
   "metadata": {},
   "source": [
    "*Step 2: Load and Preprocess the Data*"
   ]
  },
  {
   "cell_type": "code",
   "execution_count": 14,
   "id": "8edee35f-4c99-4c6f-b2d0-36ff3b579b8e",
   "metadata": {},
   "outputs": [],
   "source": [
    "# Load the MNIST dataset\n",
    "(X_train, y_train), (X_test, y_test) = mnist.load_data()\n",
    "# Reshape the data and normalize the pixel values to be between 0 and 1\n",
    "\n",
    "# Reshape the dataset to be 2D (samples, features)\n",
    "X_train = X_train.reshape(-1, 28 * 28).astype('float32')\n",
    "X_test = X_test.reshape(-1, 28 * 28).astype('float32')\n",
    "\n",
    "# Normalize the pixel values (0-255) to be between 0 and 1\n",
    "X_train /= 255.0\n",
    "X_test /= 255.0\n",
    "# Convert the labels to one-hot encoded vectors, as this is needed for multi-class classification\n",
    "\n",
    "y_train = tf.keras.utils.to_categorical(y_train, 10)\n",
    "y_test = tf.keras.utils.to_categorical(y_test, 10)\n"
   ]
  },
  {
   "cell_type": "markdown",
   "id": "60c0aa7b-f5ec-413a-83a1-92e1e8476734",
   "metadata": {},
   "source": [
    "Step 3: Build the ANN Model"
   ]
  },
  {
   "cell_type": "code",
   "execution_count": 15,
   "id": "4d463a45-9a8d-4121-a67b-4fc19222e11d",
   "metadata": {},
   "outputs": [],
   "source": [
    "# Initialize the Sequential model\n",
    "model = tf.keras.models.Sequential([\n",
    "    tf.keras.layers.Dense(512, activation='relu', input_shape=(28 * 28,)),  # Input layer with 512 neurons\n",
    "    tf.keras.layers.Dense(256, activation='relu'),                          # Hidden layer with 256 neurons\n",
    "    tf.keras.layers.Dense(128, activation='relu'),                          # Hidden layer with 128 neurons\n",
    "    tf.keras.layers.Dense(10, activation='softmax')                         # Output layer with 10 neurons (one for each digit)\n",
    "])\n"
   ]
  },
  {
   "cell_type": "markdown",
   "id": "7b2fe711-ce7f-402d-b4f2-5879fef5c7a6",
   "metadata": {},
   "source": [
    "Step 4: Compile the Model"
   ]
  },
  {
   "cell_type": "code",
   "execution_count": 16,
   "id": "c82f84d8-061a-4d55-8a3e-7fa46bd26c2f",
   "metadata": {},
   "outputs": [],
   "source": [
    "# Compile the model with appropriate loss function, optimizer, and metrics\n",
    "model.compile(optimizer='adam',\n",
    "              loss='categorical_crossentropy',\n",
    "              metrics=['accuracy'])\n"
   ]
  },
  {
   "cell_type": "markdown",
   "id": "1e9e0b2a-4d14-495e-a9d4-70eb7280cb89",
   "metadata": {},
   "source": [
    "Step 5: Train the Model"
   ]
  },
  {
   "cell_type": "code",
   "execution_count": 17,
   "id": "3ee8216a-8e7e-4bc4-8f7c-ce57a055e155",
   "metadata": {},
   "outputs": [
    {
     "name": "stdout",
     "output_type": "stream",
     "text": [
      "Epoch 1/10\n",
      "1875/1875 [==============================] - 10s 4ms/step - loss: 0.1968 - accuracy: 0.9395 - val_loss: 0.1166 - val_accuracy: 0.9625\n",
      "Epoch 2/10\n",
      "1875/1875 [==============================] - 8s 4ms/step - loss: 0.0876 - accuracy: 0.9732 - val_loss: 0.0881 - val_accuracy: 0.9725\n",
      "Epoch 3/10\n",
      "1875/1875 [==============================] - 8s 4ms/step - loss: 0.0617 - accuracy: 0.9810 - val_loss: 0.0921 - val_accuracy: 0.9733\n",
      "Epoch 4/10\n",
      "1875/1875 [==============================] - 8s 4ms/step - loss: 0.0481 - accuracy: 0.9853 - val_loss: 0.0921 - val_accuracy: 0.9733\n",
      "Epoch 5/10\n",
      "1875/1875 [==============================] - 8s 4ms/step - loss: 0.0401 - accuracy: 0.9878 - val_loss: 0.0948 - val_accuracy: 0.9755\n",
      "Epoch 6/10\n",
      "1875/1875 [==============================] - 8s 4ms/step - loss: 0.0324 - accuracy: 0.9898 - val_loss: 0.0771 - val_accuracy: 0.9780\n",
      "Epoch 7/10\n",
      "1875/1875 [==============================] - 8s 4ms/step - loss: 0.0275 - accuracy: 0.9915 - val_loss: 0.0888 - val_accuracy: 0.9769\n",
      "Epoch 8/10\n",
      "1875/1875 [==============================] - 8s 4ms/step - loss: 0.0250 - accuracy: 0.9919 - val_loss: 0.0851 - val_accuracy: 0.9800\n",
      "Epoch 9/10\n",
      "1875/1875 [==============================] - 8s 4ms/step - loss: 0.0228 - accuracy: 0.9932 - val_loss: 0.0791 - val_accuracy: 0.9817\n",
      "Epoch 10/10\n",
      "1875/1875 [==============================] - 8s 4ms/step - loss: 0.0204 - accuracy: 0.9937 - val_loss: 0.0994 - val_accuracy: 0.9777\n"
     ]
    }
   ],
   "source": [
    "history = model.fit(X_train, y_train, validation_data=(X_test, y_test), epochs=10, batch_size=32)"
   ]
  },
  {
   "cell_type": "markdown",
   "id": "4d1461b6-522c-47bc-aabf-33b496a0dc49",
   "metadata": {},
   "source": [
    "Step 6: Evaluate the Model"
   ]
  },
  {
   "cell_type": "code",
   "execution_count": 18,
   "id": "f16de686-7c84-443a-86f8-ddbc63ed7c53",
   "metadata": {},
   "outputs": [
    {
     "name": "stdout",
     "output_type": "stream",
     "text": [
      "313/313 [==============================] - 1s 2ms/step - loss: 0.0994 - accuracy: 0.9777\n",
      "Test accuracy: 0.9777\n"
     ]
    }
   ],
   "source": [
    "test_loss, test_accuracy = model.evaluate(X_test, y_test)\n",
    "print(f'Test accuracy: {test_accuracy:.4f}')"
   ]
  },
  {
   "cell_type": "markdown",
   "id": "dc4937d9-d5a7-40e1-9c2c-8b7add72cb5c",
   "metadata": {},
   "source": [
    "Step 7: Visualize Training History"
   ]
  },
  {
   "cell_type": "code",
   "execution_count": 19,
   "id": "9435d276-ab98-4460-bb3f-4c9f22e82a62",
   "metadata": {},
   "outputs": [
    {
     "data": {
      "text/plain": [
       "<matplotlib.legend.Legend at 0x158be88b0d0>"
      ]
     },
     "execution_count": 19,
     "metadata": {},
     "output_type": "execute_result"
    },
    {
     "data": {
      "image/png": "[encoded data removed]",
      "text/plain": [
       "<Figure size 1200x400 with 1 Axes>"
      ]
     },
     "metadata": {},
     "output_type": "display_data"
    }
   ],
   "source": [
    "plt.figure(figsize=(12, 4))\n",
    "\n",
    "# Plot training & validation accuracy values\n",
    "plt.subplot(1, 2, 1)\n",
    "plt.plot(history.history['accuracy'], label='Training Accuracy')\n",
    "plt.plot(history.history['val_accuracy'], label='Validation Accuracy')\n",
    "plt.title('Model Accuracy')\n",
    "plt.xlabel('Epoch')\n",
    "plt.ylabel('Accuracy')\n",
    "plt.legend(loc='best')"
   ]
  },
  {
   "cell_type": "code",
   "execution_count": null,
   "id": "0b22f7c5-d680-4c42-b0e7-32a5fa7ab7e7",
   "metadata": {},
   "outputs": [],
   "source": []
  }
 ],
 "metadata": {
  "kernelspec": {
   "display_name": "Python 3 (ipykernel)",
   "language": "python",
   "name": "python3"
  },
  "language_info": {
   "codemirror_mode": {
    "name": "ipython",
    "version": 3
   },
   "file_extension": ".py",
   "mimetype": "text/x-python",
   "name": "python",
   "nbconvert_exporter": "python",
   "pygments_lexer": "ipython3",
   "version": "3.9.18"
  }
 },
 "nbformat": 4,
 "nbformat_minor": 5
}
