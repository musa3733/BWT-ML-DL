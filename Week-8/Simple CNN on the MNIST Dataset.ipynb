{
 "cells": [
  {
   "cell_type": "markdown",
   "id": "400ecf56-ff12-4384-afd2-c8531fbd902d",
   "metadata": {},
   "source": [
    "Implementing a CNN"
   ]
  },
  {
   "cell_type": "markdown",
   "id": "691867e3-be30-4ccc-8e30-0eeff48523e3",
   "metadata": {},
   "source": [
    "Build a Simple CNN on the MNIST Dataset\n",
    "Step 1: Load and Preprocess the Data\n",
    "\n",
    "MNIST Dataset: This dataset consists of 28x28 grayscale images of handwritten digits (0-9)."
   ]
  },
  {
   "cell_type": "code",
   "execution_count": 1,
   "id": "c3b4dc49-59d7-481e-a0d1-7e165d9a98e2",
   "metadata": {},
   "outputs": [],
   "source": [
    "import tensorflow as tf\n",
    "from tensorflow.keras.datasets import mnist\n",
    "from tensorflow.keras.utils import to_categorical\n",
    "\n",
    "# Load the MNIST dataset\n",
    "(X_train, y_train), (X_test, y_test) = mnist.load_data()\n",
    "\n",
    "# Preprocess the data\n",
    "X_train = X_train.reshape(-1, 28, 28, 1).astype('float32') / 255.0\n",
    "X_test = X_test.reshape(-1, 28, 28, 1).astype('float32') / 255.0\n",
    "\n",
    "# One-hot encode the labels\n",
    "y_train = to_categorical(y_train, 10)\n",
    "y_test = to_categorical(y_test, 10)\n"
   ]
  },
  {
   "cell_type": "markdown",
   "id": "144545be-76af-4385-afc4-237524d3e88f",
   "metadata": {},
   "source": [
    "Step 2: Build the CNN Architecture\n",
    "\n",
    "A simple CNN architecture for MNIST can consist of several convolutional layers followed by pooling layers, and finally, fully connected layers."
   ]
  },
  {
   "cell_type": "code",
   "execution_count": 2,
   "id": "5c5e1889-a03c-429e-9b27-4038f010ee27",
   "metadata": {},
   "outputs": [
    {
     "name": "stdout",
     "output_type": "stream",
     "text": [
      "Model: \"sequential\"\n",
      "_________________________________________________________________\n",
      " Layer (type)                Output Shape              Param #   \n",
      "=================================================================\n",
      " conv2d (Conv2D)             (None, 26, 26, 32)        320       \n",
      "                                                                 \n",
      " max_pooling2d (MaxPooling2D  (None, 13, 13, 32)       0         \n",
      " )                                                               \n",
      "                                                                 \n",
      " conv2d_1 (Conv2D)           (None, 11, 11, 64)        18496     \n",
      "                                                                 \n",
      " max_pooling2d_1 (MaxPooling  (None, 5, 5, 64)         0         \n",
      " 2D)                                                             \n",
      "                                                                 \n",
      " flatten (Flatten)           (None, 1600)              0         \n",
      "                                                                 \n",
      " dense (Dense)               (None, 128)               204928    \n",
      "                                                                 \n",
      " dropout (Dropout)           (None, 128)               0         \n",
      "                                                                 \n",
      " dense_1 (Dense)             (None, 10)                1290      \n",
      "                                                                 \n",
      "=================================================================\n",
      "Total params: 225,034\n",
      "Trainable params: 225,034\n",
      "Non-trainable params: 0\n",
      "_________________________________________________________________\n"
     ]
    }
   ],
   "source": [
    "from tensorflow.keras.models import Sequential\n",
    "from tensorflow.keras.layers import Conv2D, MaxPooling2D, Flatten, Dense, Dropout\n",
    "\n",
    "model = Sequential([\n",
    "    Conv2D(32, (3, 3), activation='relu', input_shape=(28, 28, 1)),\n",
    "    MaxPooling2D(pool_size=(2, 2)),\n",
    "    \n",
    "    Conv2D(64, (3, 3), activation='relu'),\n",
    "    MaxPooling2D(pool_size=(2, 2)),\n",
    "    \n",
    "    Flatten(),\n",
    "    Dense(128, activation='relu'),\n",
    "    Dropout(0.5),\n",
    "    Dense(10, activation='softmax')\n",
    "])\n",
    "\n",
    "model.compile(optimizer='adam', loss='categorical_crossentropy', metrics=['accuracy'])\n",
    "model.summary()\n"
   ]
  },
  {
   "cell_type": "markdown",
   "id": "8764c4a6-7d33-4824-9382-ed0e2c414e44",
   "metadata": {},
   "source": [
    "Step 3: Train the CNN\n",
    "\n",
    "Use callbacks such as EarlyStopping and ModelCheckpoint to improve training."
   ]
  },
  {
   "cell_type": "code",
   "execution_count": 10,
   "id": "fe9293a1-536b-4209-be44-7e3e860ca546",
   "metadata": {},
   "outputs": [
    {
     "name": "stdout",
     "output_type": "stream",
     "text": [
      "Epoch 1/10\n",
      "375/375 [==============================] - ETA: 0s - loss: 0.0046 - accuracy: 0.9983"
     ]
    },
    {
     "name": "stderr",
     "output_type": "stream",
     "text": [
      "WARNING:absl:Found untraced functions such as _jit_compiled_convolution_op, _jit_compiled_convolution_op while saving (showing 2 of 2). These functions will not be directly callable after loading.\n"
     ]
    },
    {
     "name": "stdout",
     "output_type": "stream",
     "text": [
      "INFO:tensorflow:Assets written to: mnist_cnn\\assets\n"
     ]
    },
    {
     "name": "stderr",
     "output_type": "stream",
     "text": [
      "INFO:tensorflow:Assets written to: mnist_cnn\\assets\n"
     ]
    },
    {
     "name": "stdout",
     "output_type": "stream",
     "text": [
      "375/375 [==============================] - 31s 82ms/step - loss: 0.0046 - accuracy: 0.9983 - val_loss: 0.0603 - val_accuracy: 0.9923\n",
      "Epoch 2/10\n",
      "375/375 [==============================] - ETA: 0s - loss: 0.0062 - accuracy: 0.9978"
     ]
    },
    {
     "name": "stderr",
     "output_type": "stream",
     "text": [
      "WARNING:absl:Found untraced functions such as _jit_compiled_convolution_op, _jit_compiled_convolution_op while saving (showing 2 of 2). These functions will not be directly callable after loading.\n"
     ]
    },
    {
     "name": "stdout",
     "output_type": "stream",
     "text": [
      "INFO:tensorflow:Assets written to: mnist_cnn\\assets\n"
     ]
    },
    {
     "name": "stderr",
     "output_type": "stream",
     "text": [
      "INFO:tensorflow:Assets written to: mnist_cnn\\assets\n"
     ]
    },
    {
     "name": "stdout",
     "output_type": "stream",
     "text": [
      "375/375 [==============================] - 30s 80ms/step - loss: 0.0062 - accuracy: 0.9978 - val_loss: 0.0537 - val_accuracy: 0.9925\n",
      "Epoch 3/10\n",
      "375/375 [==============================] - 32s 85ms/step - loss: 0.0042 - accuracy: 0.9983 - val_loss: 0.0666 - val_accuracy: 0.9912\n",
      "Epoch 4/10\n",
      "375/375 [==============================] - 25s 66ms/step - loss: 0.0055 - accuracy: 0.9980 - val_loss: 0.0576 - val_accuracy: 0.9917\n",
      "Epoch 5/10\n",
      "375/375 [==============================] - ETA: 0s - loss: 0.0052 - accuracy: 0.9983"
     ]
    },
    {
     "name": "stderr",
     "output_type": "stream",
     "text": [
      "WARNING:absl:Found untraced functions such as _jit_compiled_convolution_op, _jit_compiled_convolution_op while saving (showing 2 of 2). These functions will not be directly callable after loading.\n"
     ]
    },
    {
     "name": "stdout",
     "output_type": "stream",
     "text": [
      "INFO:tensorflow:Assets written to: mnist_cnn\\assets\n"
     ]
    },
    {
     "name": "stderr",
     "output_type": "stream",
     "text": [
      "INFO:tensorflow:Assets written to: mnist_cnn\\assets\n"
     ]
    },
    {
     "name": "stdout",
     "output_type": "stream",
     "text": [
      "375/375 [==============================] - 31s 83ms/step - loss: 0.0052 - accuracy: 0.9983 - val_loss: 0.0512 - val_accuracy: 0.9919\n",
      "Epoch 6/10\n",
      "375/375 [==============================] - 24s 65ms/step - loss: 0.0044 - accuracy: 0.9986 - val_loss: 0.0577 - val_accuracy: 0.9922\n",
      "Epoch 7/10\n",
      "375/375 [==============================] - 25s 67ms/step - loss: 0.0039 - accuracy: 0.9987 - val_loss: 0.0576 - val_accuracy: 0.9906\n",
      "Epoch 8/10\n",
      "375/375 [==============================] - 25s 65ms/step - loss: 0.0044 - accuracy: 0.9985 - val_loss: 0.0565 - val_accuracy: 0.9913\n",
      "Epoch 9/10\n",
      "375/375 [==============================] - 24s 64ms/step - loss: 0.0052 - accuracy: 0.9983 - val_loss: 0.0643 - val_accuracy: 0.9908\n",
      "Epoch 10/10\n",
      "375/375 [==============================] - 29s 77ms/step - loss: 0.0059 - accuracy: 0.9980 - val_loss: 0.0589 - val_accuracy: 0.9924\n"
     ]
    }
   ],
   "source": [
    "from tensorflow.keras.callbacks import EarlyStopping, ModelCheckpoint\n",
    "\n",
    "callbacks = [\n",
    "    EarlyStopping(monitor='val_loss', patience=5),\n",
    "    ModelCheckpoint('mnist_cnn', save_best_only=True, save_format='tf')\n",
    "]\n",
    "\n",
    "\n",
    "history = model.fit(X_train, y_train, validation_split=0.2, epochs=10, batch_size=128, callbacks=callbacks)\n"
   ]
  },
  {
   "cell_type": "markdown",
   "id": "74a52d2a-526e-4fbb-aa52-ee0e7479c446",
   "metadata": {},
   "source": [
    "Evaluate the CNN\n",
    "\n",
    "Evaluate the model on the test set and document the results."
   ]
  },
  {
   "cell_type": "code",
   "execution_count": 11,
   "id": "64ff4d40-ffe3-472f-968d-f082ef89db52",
   "metadata": {},
   "outputs": [
    {
     "name": "stdout",
     "output_type": "stream",
     "text": [
      "313/313 [==============================] - 3s 8ms/step - loss: 0.0427 - accuracy: 0.9921\n",
      "Test accuracy: 0.9921\n"
     ]
    }
   ],
   "source": [
    "test_loss, test_acc = model.evaluate(X_test, y_test)\n",
    "print(f\"Test accuracy: {test_acc:.4f}\")\n"
   ]
  }
 ],
 "metadata": {
  "kernelspec": {
   "display_name": "Python 3 (ipykernel)",
   "language": "python",
   "name": "python3"
  },
  "language_info": {
   "codemirror_mode": {
    "name": "ipython",
    "version": 3
   },
   "file_extension": ".py",
   "mimetype": "text/x-python",
   "name": "python",
   "nbconvert_exporter": "python",
   "pygments_lexer": "ipython3",
   "version": "3.9.18"
  }
 },
 "nbformat": 4,
 "nbformat_minor": 5
}
