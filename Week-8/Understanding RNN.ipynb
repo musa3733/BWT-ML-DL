{
 "cells": [
  {
   "cell_type": "markdown",
   "id": "9cbf2a0c-6cf1-429e-b8af-34f709d9e94a",
   "metadata": {},
   "source": [
    "Understanding CNNs"
   ]
  },
  {
   "cell_type": "markdown",
   "id": "52786dc0-c935-46c1-b1e3-a8fabe95b1f6",
   "metadata": {},
   "source": [
    "What are the advantages of convolutional layers over fully connected layers in image processing tasks?\n",
    "\n",
    "Convolutional layers are better suited for image processing because they preserve the spatial structure of images. They also require fewer parameters compared to fully connected layers, reducing the risk of overfitting and improving computational efficiency."
   ]
  },
  {
   "cell_type": "markdown",
   "id": "e1397a8d-452a-4534-944b-d14ccfabdd73",
   "metadata": {},
   "source": [
    "How does pooling help in reducing the computational complexity of a CNN?\n",
    "\n",
    "Pooling layers reduce the dimensionality of the feature maps, which lowers the computational cost. It also helps in making the network invariant to small translations and distortions in the input."
   ]
  },
  {
   "cell_type": "markdown",
   "id": "13700b34-0043-45f6-b439-f6908f6aff59",
   "metadata": {},
   "source": [
    "Compare different types of pooling layers (max pooling, average pooling). What are their respective advantages and disadvantages?\n",
    "\n",
    "Max Pooling: Captures the most prominent features by selecting the maximum value from each window. It helps in retaining the most significant features but can ignore other subtle features.\n",
    "Average Pooling: Computes the average of all values in the window, preserving more information from the feature maps but possibly diluting strong signals."
   ]
  }
 ],
 "metadata": {
  "kernelspec": {
   "display_name": "Python 3 (ipykernel)",
   "language": "python",
   "name": "python3"
  },
  "language_info": {
   "codemirror_mode": {
    "name": "ipython",
    "version": 3
   },
   "file_extension": ".py",
   "mimetype": "text/x-python",
   "name": "python",
   "nbconvert_exporter": "python",
   "pygments_lexer": "ipython3",
   "version": "3.9.18"
  }
 },
 "nbformat": 4,
 "nbformat_minor": 5
}
